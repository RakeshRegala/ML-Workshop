{
  "nbformat": 4,
  "nbformat_minor": 0,
  "metadata": {
    "colab": {
      "provenance": [],
      "authorship_tag": "ABX9TyMEUxAyZjIW6S8vUCbVTIKp",
      "include_colab_link": true
    },
    "kernelspec": {
      "name": "python3",
      "display_name": "Python 3"
    },
    "language_info": {
      "name": "python"
    }
  },
  "cells": [
    {
      "cell_type": "markdown",
      "metadata": {
        "id": "view-in-github",
        "colab_type": "text"
      },
      "source": [
        "<a href=\"https://colab.research.google.com/github/RakeshRegala/ML-Workshop/blob/main/MLworkshop.ipynb\" target=\"_parent\"><img src=\"https://colab.research.google.com/assets/colab-badge.svg\" alt=\"Open In Colab\"/></a>"
      ]
    },
    {
      "cell_type": "markdown",
      "source": [
        "# 1.Perform arithmetic operations on NumPy arrays"
      ],
      "metadata": {
        "id": "anbE3y9EC1fm"
      }
    },
    {
      "cell_type": "code",
      "execution_count": null,
      "metadata": {
        "colab": {
          "base_uri": "https://localhost:8080/"
        },
        "id": "ktSXhe9-Czba",
        "outputId": "293ed8d6-217e-4a26-ad91-fffc491b3d72"
      },
      "outputs": [
        {
          "output_type": "stream",
          "name": "stdout",
          "text": [
            "Addition: [5 7 9]\n",
            "Subtraction: [-3 -3 -3]\n",
            "Multiplication: [ 4 10 18]\n",
            "Division: [0.25 0.4  0.5 ]\n"
          ]
        }
      ],
      "source": [
        "import numpy as np\n",
        "a = np.array([1, 2, 3])\n",
        "b = np.array([4, 5, 6])\n",
        "addition = a + b\n",
        "subtraction = a - b\n",
        "multiplication = a * b\n",
        "division = a / b\n",
        "\n",
        "print(\"Addition:\", addition)\n",
        "print(\"Subtraction:\", subtraction)\n",
        "print(\"Multiplication:\", multiplication)\n",
        "print(\"Division:\", division)"
      ]
    },
    {
      "cell_type": "markdown",
      "source": [],
      "metadata": {
        "id": "kNPASNs_C0VP"
      }
    },
    {
      "cell_type": "markdown",
      "source": [
        "#2. Write a script to compute the mean and standard deviation of a NumPy array."
      ],
      "metadata": {
        "id": "cpPU9SOHDgy4"
      }
    },
    {
      "cell_type": "code",
      "source": [
        "mean = np.mean(a)\n",
        "std_dev = np.std(a)\n",
        "\n",
        "print(\"Mean:\", mean)\n",
        "print(\"Standard Deviation:\", std_dev)"
      ],
      "metadata": {
        "colab": {
          "base_uri": "https://localhost:8080/"
        },
        "id": "N6dKyBD4DcWl",
        "outputId": "463a017b-32f2-4a1c-e993-f7b2f3e61733"
      },
      "execution_count": null,
      "outputs": [
        {
          "output_type": "stream",
          "name": "stdout",
          "text": [
            "Mean: 2.0\n",
            "Standard Deviation: 0.816496580927726\n"
          ]
        }
      ]
    },
    {
      "cell_type": "markdown",
      "source": [
        "#3. Create a NumPy array of integers from 10 to 50 with a step size of 5.\n"
      ],
      "metadata": {
        "id": "PlvN0y6ND-rv"
      }
    },
    {
      "cell_type": "code",
      "source": [
        "arr = np.arange(10, 51, 5)\n",
        "print(\"Array:\", arr)"
      ],
      "metadata": {
        "colab": {
          "base_uri": "https://localhost:8080/"
        },
        "id": "zmi9pVMfEC-p",
        "outputId": "8d569e99-635b-462e-e38a-67746c669671"
      },
      "execution_count": null,
      "outputs": [
        {
          "output_type": "stream",
          "name": "stdout",
          "text": [
            "Array: [10 15 20 25 30 35 40 45 50]\n"
          ]
        }
      ]
    },
    {
      "cell_type": "markdown",
      "source": [
        "#4. Reshape the array into a 2x4 matrix.\n"
      ],
      "metadata": {
        "id": "Z1hGmQW3EzSE"
      }
    },
    {
      "cell_type": "code",
      "source": [
        "arr=np.array([10, 15, 20, 25, 30, 35, 40, 45])\n",
        "rearr=np.reshape(arr,(2,4))\n",
        "print(rearr)"
      ],
      "metadata": {
        "colab": {
          "base_uri": "https://localhost:8080/"
        },
        "id": "Q4PpYjy9E3VM",
        "outputId": "25739fff-39cc-493a-9409-4b5e89289b0e"
      },
      "execution_count": null,
      "outputs": [
        {
          "output_type": "stream",
          "name": "stdout",
          "text": [
            "[[10 15 20 25]\n",
            " [30 35 40 45]]\n"
          ]
        }
      ]
    },
    {
      "cell_type": "markdown",
      "source": [
        "#5. Given the array arr = np.array([[1, 2, 3], [4, 5, 6], [7, 8, 9]]):\n",
        "• Extract the sub-matrix containing the last two rows and first two columns.\n",
        "• Replace all elements greater than 4 with 0"
      ],
      "metadata": {
        "id": "Blv3ca4eFacE"
      }
    },
    {
      "cell_type": "code",
      "source": [
        "#  creating 2D array\n",
        "arr = np.array([[1, 2, 3], [4, 5, 6], [7, 8, 9]])\n",
        "\n",
        "subArr = arr[1:,:2]\n",
        "print(subArr)\n",
        "\n",
        "# replacing all elements greater than 4 with 0\n",
        "arr[arr>4] = 0\n",
        "print(arr)"
      ],
      "metadata": {
        "colab": {
          "base_uri": "https://localhost:8080/"
        },
        "id": "fGbQzouhFeTv",
        "outputId": "1965fce4-1cd2-49dd-e4b1-6638d465768e"
      },
      "execution_count": null,
      "outputs": [
        {
          "output_type": "stream",
          "name": "stdout",
          "text": [
            "[[4 5]\n",
            " [7 8]]\n",
            "[[1 2 3]\n",
            " [4 0 0]\n",
            " [0 0 0]]\n"
          ]
        }
      ]
    },
    {
      "cell_type": "markdown",
      "source": [
        "#6. Create two 1D arrays:\n",
        "• a = np.array([1, 2, 3])\n",
        "• b = np.array([4, 5, 6])\n",
        "• Perform element-wise addition, multiplication, and division.\n"
      ],
      "metadata": {
        "id": "e3_fnpgiJkcI"
      }
    },
    {
      "cell_type": "code",
      "source": [
        "a=np.array([1,2,3])\n",
        "b=np.array([4,5,6])\n",
        "print(a+b)\n",
        "print(a*b)\n",
        "print(a/b)"
      ],
      "metadata": {
        "colab": {
          "base_uri": "https://localhost:8080/"
        },
        "id": "nwszaQ4yKbOE",
        "outputId": "f3eb6132-9503-42a7-94fb-2782f91f37f8"
      },
      "execution_count": null,
      "outputs": [
        {
          "output_type": "stream",
          "name": "stdout",
          "text": [
            "[5 7 9]\n",
            "[ 4 10 18]\n",
            "[0.25 0.4  0.5 ]\n"
          ]
        }
      ]
    },
    {
      "cell_type": "markdown",
      "source": [
        "#7. Create a random NumPy array of size (4, 4). Compute:\n",
        "• Mean of each column.\n",
        "• Maximum value of the entire array.\n",
        "• Sum of all elements."
      ],
      "metadata": {
        "id": "DMR8LoSiKr9w"
      }
    },
    {
      "cell_type": "code",
      "source": [
        "ranArr = np.random.rand(4,4)\n",
        "print(ranArr)\n",
        "\n",
        "print(np.mean(ranArr, axis = 0))\n",
        "print(np.max(ranArr))\n",
        "print(np.sum(ranArr))"
      ],
      "metadata": {
        "colab": {
          "base_uri": "https://localhost:8080/"
        },
        "id": "gCAuXVVfKv4W",
        "outputId": "c32fef7a-4313-4d52-d8b3-caf4f7ec3389"
      },
      "execution_count": null,
      "outputs": [
        {
          "output_type": "stream",
          "name": "stdout",
          "text": [
            "[[0.12333126 0.07178994 0.19987489 0.55864371]\n",
            " [0.51109433 0.43105424 0.61866895 0.28975512]\n",
            " [0.91950067 0.14514653 0.56398759 0.26735622]\n",
            " [0.41681945 0.21645122 0.63314819 0.36237804]]\n",
            "[0.49268643 0.21611048 0.50391991 0.36953327]\n",
            "0.919500674957013\n",
            "6.329000367687668\n"
          ]
        }
      ]
    },
    {
      "cell_type": "markdown",
      "source": [
        "#8. Given the array arr = np.array([1, 2, 3, 4]), add 10 to each element and multiply the result by 2"
      ],
      "metadata": {
        "id": "RxphPyycMXCq"
      }
    },
    {
      "cell_type": "code",
      "source": [
        "arr = np.array([1, 2, 3, 4])\n",
        "result = (arr + 10) * 2\n",
        "print(result)"
      ],
      "metadata": {
        "colab": {
          "base_uri": "https://localhost:8080/"
        },
        "id": "XzqKfy2LMZDe",
        "outputId": "8c39e881-8865-49ed-dec2-122d42199804"
      },
      "execution_count": null,
      "outputs": [
        {
          "output_type": "stream",
          "name": "stdout",
          "text": [
            "[22 24 26 28]\n"
          ]
        }
      ]
    },
    {
      "cell_type": "markdown",
      "source": [
        "#9. Perform advanced slicing and indexing on a 3D array.\n",
        "Create a 3D NumPy array arr of shape (3, 4, 5) with random integers ranging from\n",
        "1 to 100. Perform the following:\n",
        "• Extract the second \"layer\" (i.e., the second 2D array) in the first dimension.\n",
        "• Extract the first two rows and the last three columns from each \"layer.\"\n",
        "• Replace all elements divisible by 3 with -1"
      ],
      "metadata": {
        "id": "uzUiVU3ANE2H"
      }
    },
    {
      "cell_type": "code",
      "source": [
        "arr_3d = np.random.randint(1, 101, size=(3, 4, 5))\n",
        "\n",
        "second_layer = arr_3d[1]\n",
        "\n",
        "rows_cols = arr_3d[:, :2, -3:]\n",
        "\n",
        "arr_3d[arr_3d % 3 == 0] = -1\n",
        "\n",
        "print(\"Second Layer:\\n\", second_layer)\n",
        "print(\"First Two Rows and Last Three Columns:\\n\", rows_cols)\n",
        "print(\"Modified Array:\\n\", arr_3d)"
      ],
      "metadata": {
        "colab": {
          "base_uri": "https://localhost:8080/"
        },
        "id": "CelqgU9YNKzU",
        "outputId": "dcbed805-05a3-4c37-99e9-07f62da81360"
      },
      "execution_count": null,
      "outputs": [
        {
          "output_type": "stream",
          "name": "stdout",
          "text": [
            "Second Layer:\n",
            " [[89 10 -1 -1 13]\n",
            " [67 -1 91 95 22]\n",
            " [13 -1 55 14 41]\n",
            " [67 -1 26 46 31]]\n",
            "First Two Rows and Last Three Columns:\n",
            " [[[65 65 -1]\n",
            "  [-1 73 46]]\n",
            "\n",
            " [[-1 -1 13]\n",
            "  [91 95 22]]\n",
            "\n",
            " [[-1 68 -1]\n",
            "  [94 -1 -1]]]\n",
            "Modified Array:\n",
            " [[[22 61 65 65 -1]\n",
            "  [46 22 -1 73 46]\n",
            "  [77 70 62 79 41]\n",
            "  [74 -1 -1 59 -1]]\n",
            "\n",
            " [[89 10 -1 -1 13]\n",
            "  [67 -1 91 95 22]\n",
            "  [13 -1 55 14 41]\n",
            "  [67 -1 26 46 31]]\n",
            "\n",
            " [[ 4 79 -1 68 -1]\n",
            "  [41 50 94 -1 -1]\n",
            "  [-1 -1 38 11 62]\n",
            "  [-1 49 16 67 85]]]\n"
          ]
        }
      ]
    },
    {
      "cell_type": "markdown",
      "source": [
        "#10. Work with broadcasting and advanced operations in NumPy.\n",
        " Create a NumPy array arr of shape (3, 3) with random integers between\n",
        " 1 and 20. Perform the following:\n",
        "• Subtract the mean of each row from its respective elements (row-wise\n",
        "normalization).\n",
        "• Create a new array by squaring all the elements in arr.\n",
        "• Find the indices of the top 3 maximum values in the entire array"
      ],
      "metadata": {
        "id": "vRXppGEvOJ_A"
      }
    },
    {
      "cell_type": "code",
      "source": [
        "arr = np.random.randint(1, 21, size=(3, 3))\n",
        "\n",
        "row_means = np.mean(arr, axis=1).reshape(-1, 1)\n",
        "normalized = arr - row_means\n",
        "squared = arr ** 2\n",
        "\n",
        "flat_indices = np.argsort(arr.ravel())[-3:]\n",
        "indices = np.unravel_index(flat_indices, arr.shape)\n",
        "\n",
        "print(\"Row-wise Normalized Array:\\n\", normalized)\n",
        "print(\"Squared Array:\\n\", squared)\n",
        "print(\"Indices of Top 3 Maximum Values:\", list(zip(indices[0], indices[1])))"
      ],
      "metadata": {
        "colab": {
          "base_uri": "https://localhost:8080/"
        },
        "id": "y33n4GtuOzFX",
        "outputId": "5c180b34-5275-42cd-bf33-841eed89b8a3"
      },
      "execution_count": null,
      "outputs": [
        {
          "output_type": "stream",
          "name": "stdout",
          "text": [
            "Row-wise Normalized Array:\n",
            " [[ 4.66666667 -8.33333333  3.66666667]\n",
            " [ 2.         -9.          7.        ]\n",
            " [11.         -7.         -4.        ]]\n",
            "Squared Array:\n",
            " [[256   9 225]\n",
            " [144   1 289]\n",
            " [400   4  25]]\n",
            "Indices of Top 3 Maximum Values: [(0, 0), (1, 2), (2, 0)]\n"
          ]
        }
      ]
    }
  ]
}