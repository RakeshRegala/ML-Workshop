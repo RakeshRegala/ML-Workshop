{
  "nbformat": 4,
  "nbformat_minor": 0,
  "metadata": {
    "colab": {
      "provenance": [],
      "authorship_tag": "ABX9TyMNfgk8ZjOdR79JxTecltuC",
      "include_colab_link": true
    },
    "kernelspec": {
      "name": "python3",
      "display_name": "Python 3"
    },
    "language_info": {
      "name": "python"
    }
  },
  "cells": [
    {
      "cell_type": "markdown",
      "metadata": {
        "id": "view-in-github",
        "colab_type": "text"
      },
      "source": [
        "<a href=\"https://colab.research.google.com/github/RakeshRegala/ML-Workshop/blob/main/Regression.ipynb\" target=\"_parent\"><img src=\"https://colab.research.google.com/assets/colab-badge.svg\" alt=\"Open In Colab\"/></a>"
      ]
    },
    {
      "cell_type": "markdown",
      "source": [
        "#Assignment - IV"
      ],
      "metadata": {
        "id": "-qZqJbadV1iV"
      }
    },
    {
      "cell_type": "markdown",
      "source": [
        "**Load and Explore Dataset**\n"
      ],
      "metadata": {
        "id": "KsMq6l4Bx2yb"
      }
    },
    {
      "cell_type": "code",
      "execution_count": null,
      "metadata": {
        "colab": {
          "base_uri": "https://localhost:8080/"
        },
        "id": "ZP29YYNosL9q",
        "outputId": "684e1138-9b2b-4266-8cda-c5ca36b15ecb"
      },
      "outputs": [
        {
          "output_type": "stream",
          "name": "stdout",
          "text": [
            "   R&D Spend  Administration  Marketing Spend       State     Profit\n",
            "0  165349.20       136897.80        471784.10    New York  192261.83\n",
            "1  162597.70       151377.59        443898.53  California  191792.06\n",
            "2  153441.51       101145.55        407934.54     Florida  191050.39\n",
            "3  144372.41       118671.85        383199.62    New York  182901.99\n",
            "4  142107.34        91391.77        366168.42     Florida  166187.94\n",
            "R&D Spend          0\n",
            "Administration     0\n",
            "Marketing Spend    0\n",
            "State              0\n",
            "Profit             0\n",
            "dtype: int64\n",
            "           R&D Spend  Administration  Marketing Spend         Profit\n",
            "count      50.000000       50.000000        50.000000      50.000000\n",
            "mean    73721.615600   121344.639600    211025.097800  112012.639200\n",
            "std     45902.256482    28017.802755    122290.310726   40306.180338\n",
            "min         0.000000    51283.140000         0.000000   14681.400000\n",
            "25%     39936.370000   103730.875000    129300.132500   90138.902500\n",
            "50%     73051.080000   122699.795000    212716.240000  107978.190000\n",
            "75%    101602.800000   144842.180000    299469.085000  139765.977500\n",
            "max    165349.200000   182645.560000    471784.100000  192261.830000\n"
          ]
        }
      ],
      "source": [
        "import pandas as pd\n",
        "\n",
        "df = pd.read_csv('/content/50_Startups.csv')\n",
        "\n",
        "print(df.head())\n",
        "\n",
        "# Check for missing values\n",
        "print(df.isnull().sum())\n",
        "\n",
        "# Basic statistics\n",
        "print(df.describe())\n"
      ]
    },
    {
      "cell_type": "markdown",
      "source": [
        "**1)Build Multiple Linear Regression Model**\n"
      ],
      "metadata": {
        "id": "W1sF8ALZyUND"
      }
    },
    {
      "cell_type": "code",
      "source": [
        "import numpy as np\n",
        "from sklearn.model_selection import train_test_split\n",
        "from sklearn.linear_model import LinearRegression\n",
        "from sklearn.metrics import mean_squared_error, r2_score, mean_absolute_error\n",
        "\n",
        "# Encode categorical variables (assuming 'State' is categorical)\n",
        "df = pd.get_dummies(df, columns=['State'], drop_first=True)\n",
        "\n",
        "\n",
        "# Define features (X) and target (y)\n",
        "X = df.drop('Profit', axis=1)\n",
        "y = df['Profit']\n",
        "\n",
        "# Split the data\n",
        "X_train, X_test, y_train, y_test = train_test_split(X, y, test_size=0.2, random_state=42)\n",
        "\n",
        "# Build and train the model\n",
        "lr_model = LinearRegression()\n",
        "lr_model.fit(X_train, y_train)\n",
        "\n",
        "# Make predictions\n",
        "y_pred = lr_model.predict(X_test)\n",
        "\n",
        "# Evaluate the model\n",
        "mse = mean_squared_error(y_test, y_pred)\n",
        "r2 = r2_score(y_test, y_pred)\n",
        "mae = mean_absolute_error(y_test, y_pred)\n",
        "rmse = np.sqrt(mse)\n",
        "\n",
        "print(\"Linear Regression Results\")\n",
        "print(\"Mean Absolute Error (MAE):\", mae)\n",
        "print(\"Mean Squared Error (MSE):\", mse)\n",
        "print(\"Root Mean Squared Error (RMSE):\", rmse)\n",
        "print(\"R-squared Score (R2):\", r2)\n"
      ],
      "metadata": {
        "colab": {
          "base_uri": "https://localhost:8080/"
        },
        "id": "Yk344THWyYgB",
        "outputId": "bf03ab11-110d-49f4-8f93-ffeba5277cda"
      },
      "execution_count": null,
      "outputs": [
        {
          "output_type": "stream",
          "name": "stdout",
          "text": [
            "Linear Regression Results\n",
            "Mean Absolute Error (MAE): 6961.477813252376\n",
            "Mean Squared Error (MSE): 82010363.04430099\n",
            "Root Mean Squared Error (RMSE): 9055.957323458464\n",
            "R-squared Score (R2): 0.8987266414328637\n"
          ]
        }
      ]
    },
    {
      "cell_type": "markdown",
      "source": [
        "**2)L1 Regularization (Lasso Regression)**\n"
      ],
      "metadata": {
        "id": "jFA8K-Vsy5jg"
      }
    },
    {
      "cell_type": "code",
      "source": [
        "from sklearn.linear_model import Lasso\n",
        "from sklearn.metrics import mean_squared_error, r2_score, mean_absolute_error\n",
        "import numpy as np\n",
        "\n",
        "# Train Lasso Regression model\n",
        "lasso_model = Lasso(alpha=1.0)  # Adjust alpha for stronger/weaker regularization\n",
        "lasso_model.fit(X_train, y_train)\n",
        "\n",
        "# Make predictions\n",
        "y_lasso_pred = lasso_model.predict(X_test)\n",
        "\n",
        "# Evaluate the model\n",
        "mse = mean_squared_error(y_test, y_lasso_pred)\n",
        "mae = mean_absolute_error(y_test, y_lasso_pred)\n",
        "rmse = np.sqrt(mse)\n",
        "r2 = r2_score(y_test, y_lasso_pred)\n",
        "\n",
        "print(\"Lasso Regression Results\")\n",
        "print(\"Mean Absolute Error (MAE):\", mae)\n",
        "print(\"Mean Squared Error (MSE):\", mse)\n",
        "print(\"Root Mean Squared Error (RMSE):\", rmse)\n",
        "print(\"R-squared Score (R2):\", r2)\n"
      ],
      "metadata": {
        "colab": {
          "base_uri": "https://localhost:8080/"
        },
        "id": "BUaKTMxZy8ka",
        "outputId": "a2fb872b-47ab-4269-f72d-9ffd203c1ae6"
      },
      "execution_count": null,
      "outputs": [
        {
          "output_type": "stream",
          "name": "stdout",
          "text": [
            "Lasso Regression Results\n",
            "Mean Absolute Error (MAE): 6961.5746884671735\n",
            "Mean Squared Error (MSE): 82004202.15414938\n",
            "Root Mean Squared Error (RMSE): 9055.617160312675\n",
            "R-squared Score (R2): 0.8987342494230525\n"
          ]
        }
      ]
    },
    {
      "cell_type": "markdown",
      "source": [
        "**3)L2 Regularization (Ridge Regression)**\n"
      ],
      "metadata": {
        "id": "D7MVKmkszDql"
      }
    },
    {
      "cell_type": "code",
      "source": [
        "from sklearn.linear_model import Ridge\n",
        "from sklearn.metrics import mean_squared_error, r2_score, mean_absolute_error\n",
        "import numpy as np\n",
        "\n",
        "# Train Ridge Regression model\n",
        "ridge_model = Ridge(alpha=1.0)  # Adjust alpha for stronger/weaker regularization\n",
        "ridge_model.fit(X_train, y_train)\n",
        "\n",
        "# Make predictions\n",
        "y_ridge_pred = ridge_model.predict(X_test)\n",
        "\n",
        "# Evaluate the model\n",
        "mse = mean_squared_error(y_test, y_ridge_pred)\n",
        "mae = mean_absolute_error(y_test, y_ridge_pred)\n",
        "rmse = np.sqrt(mse)\n",
        "r2 = r2_score(y_test, y_ridge_pred)\n",
        "\n",
        "print(\"L2 Regression Results\")\n",
        "print(\"Mean Absolute Error (MAE):\", mae)\n",
        "print(\"Mean Squared Error (MSE):\", mse)\n",
        "print(\"Root Mean Squared Error (RMSE):\", rmse)\n",
        "print(\"R-squared Score (R2):\", r2)\n"
      ],
      "metadata": {
        "colab": {
          "base_uri": "https://localhost:8080/"
        },
        "id": "W2rFhdK9zFta",
        "outputId": "d80af14b-3139-4c1b-a92a-d54778d7ff02"
      },
      "execution_count": null,
      "outputs": [
        {
          "output_type": "stream",
          "name": "stdout",
          "text": [
            "L2 Regression Results\n",
            "Mean Absolute Error (MAE): 6963.340034795974\n",
            "Mean Squared Error (MSE): 81887773.66036233\n",
            "Root Mean Squared Error (RMSE): 9049.186353499541\n",
            "R-squared Score (R2): 0.8988780252113923\n"
          ]
        }
      ]
    },
    {
      "cell_type": "markdown",
      "source": [
        "**Analyze and Compare Results**\n"
      ],
      "metadata": {
        "id": "34W5gwGDzN51"
      }
    },
    {
      "cell_type": "code",
      "source": [
        "# Compare results\n",
        "results = {\n",
        "    \"Model\": [\"Linear Regression\", \"Lasso Regression\", \"Ridge Regression\"],\n",
        "    \"Mean Absolute Error\": [\n",
        "        mean_absolute_error(y_test, y_pred),\n",
        "        mean_absolute_error(y_test, y_lasso_pred),\n",
        "        mean_absolute_error(y_test, y_ridge_pred)\n",
        "    ],\n",
        "    \"Mean Squared Error\": [\n",
        "        mean_squared_error(y_test, y_pred),\n",
        "        mean_squared_error(y_test, y_lasso_pred),\n",
        "        mean_squared_error(y_test, y_ridge_pred)\n",
        "    ],\n",
        "    \"Root Mean Squared Error\": [\n",
        "        np.sqrt(mean_squared_error(y_test, y_pred)),\n",
        "        np.sqrt(mean_squared_error(y_test, y_lasso_pred)),\n",
        "        np.sqrt(mean_squared_error(y_test, y_ridge_pred))\n",
        "    ],\n",
        "    \"R-squared Score\": [\n",
        "        r2_score(y_test, y_pred),\n",
        "        r2_score(y_test, y_lasso_pred),\n",
        "        r2_score(y_test, y_ridge_pred)\n",
        "    ]\n",
        "}\n",
        "\n",
        "results_df = pd.DataFrame(results)\n",
        "print(results_df)\n"
      ],
      "metadata": {
        "colab": {
          "base_uri": "https://localhost:8080/"
        },
        "id": "h4Okfw9czTa-",
        "outputId": "a4753d16-7801-45d4-a9a6-92c4273014c0"
      },
      "execution_count": null,
      "outputs": [
        {
          "output_type": "stream",
          "name": "stdout",
          "text": [
            "               Model  Mean Absolute Error  Mean Squared Error  \\\n",
            "0  Linear Regression          6961.477813        8.201036e+07   \n",
            "1   Lasso Regression          6961.574688        8.200420e+07   \n",
            "2   Ridge Regression          6963.340035        8.188777e+07   \n",
            "\n",
            "   Root Mean Squared Error  R-squared Score  \n",
            "0              9055.957323         0.898727  \n",
            "1              9055.617160         0.898734  \n",
            "2              9049.186353         0.898878  \n"
          ]
        }
      ]
    }
  ]
}